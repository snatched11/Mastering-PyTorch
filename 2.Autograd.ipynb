{
 "cells": [
  {
   "cell_type": "markdown",
   "id": "e0a0b348",
   "metadata": {},
   "source": [
    "* requires_grad attribute for Tensors"
   ]
  },
  {
   "cell_type": "markdown",
   "id": "ec5244de",
   "metadata": {},
   "source": [
    "torch.autograd is PyTorch’s automatic differentiation engine that powers neural network training .The autograd package provides automatic differentiation for all operations on Tensors. To tell PyTorch that we want the gradient, we have to set requires_grad=True. With this attribute set, all operations on the tensor are tracked in the computational graph.\n",
    "\n"
   ]
  },
  {
   "cell_type": "code",
   "execution_count": null,
   "id": "e87f88eb",
   "metadata": {},
   "outputs": [],
   "source": []
  },
  {
   "cell_type": "code",
   "execution_count": 25,
   "id": "df9f26a0",
   "metadata": {},
   "outputs": [],
   "source": [
    "import torch"
   ]
  },
  {
   "cell_type": "code",
   "execution_count": 26,
   "id": "1034f8e8",
   "metadata": {},
   "outputs": [
    {
     "name": "stdout",
     "output_type": "stream",
     "text": [
      "tensor([ 1.1817, -0.7596,  1.1233], requires_grad=True)\n"
     ]
    }
   ],
   "source": [
    "x = torch.randn (3, requires_grad=True)\n",
    "print (x)"
   ]
  },
  {
   "cell_type": "code",
   "execution_count": 27,
   "id": "2ab0486e",
   "metadata": {},
   "outputs": [
    {
     "name": "stdout",
     "output_type": "stream",
     "text": [
      "tensor([3.1817, 1.2404, 3.1233], grad_fn=<AddBackward0>)\n"
     ]
    }
   ],
   "source": [
    "y = x+2\n",
    "print (y)"
   ]
  },
  {
   "cell_type": "code",
   "execution_count": 28,
   "id": "de117bd9",
   "metadata": {},
   "outputs": [
    {
     "name": "stdout",
     "output_type": "stream",
     "text": [
      "tensor(14.2776, grad_fn=<MeanBackward0>)\n"
     ]
    }
   ],
   "source": [
    "z = y*y*2\n",
    "z = z.mean()\n",
    "print (z)"
   ]
  },
  {
   "cell_type": "code",
   "execution_count": 29,
   "id": "ed961a88",
   "metadata": {},
   "outputs": [
    {
     "name": "stdout",
     "output_type": "stream",
     "text": [
      "tensor([4.2422, 1.6539, 4.1644])\n"
     ]
    }
   ],
   "source": [
    "z.backward() #dz/dx\n",
    "print (x.grad)"
   ]
  },
  {
   "cell_type": "code",
   "execution_count": null,
   "id": "e39cf754",
   "metadata": {},
   "outputs": [],
   "source": []
  },
  {
   "cell_type": "code",
   "execution_count": 38,
   "id": "935591ce",
   "metadata": {},
   "outputs": [
    {
     "name": "stdout",
     "output_type": "stream",
     "text": [
      "tensor(3., requires_grad=True)\n"
     ]
    }
   ],
   "source": [
    "b = torch.tensor(3., requires_grad=True)\n",
    "print(b)"
   ]
  },
  {
   "cell_type": "code",
   "execution_count": 39,
   "id": "0a2d17fc",
   "metadata": {},
   "outputs": [
    {
     "name": "stdout",
     "output_type": "stream",
     "text": [
      "tensor(41., grad_fn=<AddBackward0>)\n"
     ]
    }
   ],
   "source": [
    "y = 3*b*b + 4*b + 2\n",
    "print (y)"
   ]
  },
  {
   "cell_type": "code",
   "execution_count": 40,
   "id": "37b57889",
   "metadata": {},
   "outputs": [],
   "source": [
    "y.backward() # Derivative of 3*b*b + 4*b + 2 is, 6b+4"
   ]
  },
  {
   "cell_type": "code",
   "execution_count": 41,
   "id": "788a300c",
   "metadata": {},
   "outputs": [
    {
     "name": "stdout",
     "output_type": "stream",
     "text": [
      "tensor(22.)\n"
     ]
    }
   ],
   "source": [
    "print (b.grad) # 6b+4 is 6*3+4 = 22"
   ]
  },
  {
   "cell_type": "code",
   "execution_count": null,
   "id": "d3763ffd",
   "metadata": {},
   "outputs": [],
   "source": []
  },
  {
   "cell_type": "markdown",
   "id": "450bc74b",
   "metadata": {},
   "source": [
    "# Turn Gradient Calculation off"
   ]
  },
  {
   "cell_type": "code",
   "execution_count": 42,
   "id": "5bc10a69",
   "metadata": {},
   "outputs": [
    {
     "name": "stdout",
     "output_type": "stream",
     "text": [
      "tensor(2., requires_grad=True)\n"
     ]
    }
   ],
   "source": [
    "a = torch.tensor (2., requires_grad=True)\n",
    "print (a)"
   ]
  },
  {
   "cell_type": "code",
   "execution_count": 43,
   "id": "d5fe78f4",
   "metadata": {},
   "outputs": [
    {
     "name": "stdout",
     "output_type": "stream",
     "text": [
      "tensor(2.)\n"
     ]
    }
   ],
   "source": [
    "a = a.requires_grad_(False)\n",
    "print (a)"
   ]
  },
  {
   "cell_type": "code",
   "execution_count": 44,
   "id": "86eeb0fb",
   "metadata": {},
   "outputs": [
    {
     "name": "stdout",
     "output_type": "stream",
     "text": [
      "tensor(2.)\n"
     ]
    }
   ],
   "source": [
    "#another way\n",
    "a = a.detach()\n",
    "print (a)"
   ]
  },
  {
   "cell_type": "code",
   "execution_count": null,
   "id": "6dd11cd2",
   "metadata": {},
   "outputs": [],
   "source": []
  },
  {
   "cell_type": "markdown",
   "id": "400d6862",
   "metadata": {},
   "source": [
    "# Gradient accumulation"
   ]
  },
  {
   "cell_type": "code",
   "execution_count": 47,
   "id": "2aaded8a",
   "metadata": {},
   "outputs": [
    {
     "name": "stdout",
     "output_type": "stream",
     "text": [
      "tensor(34.)\n",
      "tensor(68.)\n",
      "tensor(102.)\n"
     ]
    }
   ],
   "source": [
    "x = torch.tensor(5., requires_grad=True)\n",
    "for epoch in range (3):\n",
    "    y = 3*x**2 + 4*x + 2\n",
    "    y.backward()\n",
    "    print(x.grad)\n",
    "   "
   ]
  },
  {
   "cell_type": "markdown",
   "id": "277093cd",
   "metadata": {},
   "source": [
    "Gradients are adding up. To avoid this we use grad.zero_()"
   ]
  },
  {
   "cell_type": "code",
   "execution_count": 48,
   "id": "25939d5f",
   "metadata": {},
   "outputs": [
    {
     "name": "stdout",
     "output_type": "stream",
     "text": [
      "tensor(34.)\n",
      "tensor(34.)\n",
      "tensor(34.)\n"
     ]
    }
   ],
   "source": [
    "x = torch.tensor(5., requires_grad=True)\n",
    "for epoch in range (3):\n",
    "    y = 3*x**2 + 4*x + 2\n",
    "    y.backward()\n",
    "    print(x.grad)\n",
    "    x.grad.zero_()"
   ]
  },
  {
   "cell_type": "code",
   "execution_count": null,
   "id": "5b63806e",
   "metadata": {},
   "outputs": [],
   "source": []
  }
 ],
 "metadata": {
  "kernelspec": {
   "display_name": "Python [conda env:envpytorch]",
   "language": "python",
   "name": "conda-env-envpytorch-py"
  },
  "language_info": {
   "codemirror_mode": {
    "name": "ipython",
    "version": 3
   },
   "file_extension": ".py",
   "mimetype": "text/x-python",
   "name": "python",
   "nbconvert_exporter": "python",
   "pygments_lexer": "ipython3",
   "version": "3.7.3"
  }
 },
 "nbformat": 4,
 "nbformat_minor": 5
}
