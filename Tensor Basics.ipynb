{
 "cells": [
  {
   "cell_type": "markdown",
   "id": "3f65fd6c",
   "metadata": {},
   "source": [
    "A Tensor in PyTorch is a multi-dimensional array that can be used for various mathematical operations and computations, similar to arrays in other programming languages. PyTorch is a popular open-source machine learning library that provides support for tensors as a fundamental data structure. Tensors in PyTorch are designed to work efficiently on both CPUs and GPUs, making them a key component for building and training neural networks and other machine learning models."
   ]
  },
  {
   "cell_type": "markdown",
   "id": "f6e8cba7",
   "metadata": {},
   "source": [
    "Tensors can have different dimensions, such as scalars (0-dimensional tensors), vectors (1-dimensional tensors), matrices (2-dimensional tensors), and higher-dimensional arrays. These dimensions are often referred to as axes or ranks."
   ]
  },
  {
   "cell_type": "markdown",
   "id": "87d3de72",
   "metadata": {},
   "source": [
    "PyTorch provides functionalities to create, manipulate, and perform operations on tensors. You can create tensors using various functions like torch.tensor(), torch.zeros(), torch.ones(), torch.rand(), and more. Once you have tensors, you can perform arithmetic operations, element-wise operations, matrix multiplications, and various other mathematical computations on them."
   ]
  },
  {
   "cell_type": "code",
   "execution_count": null,
   "id": "da03e0d0",
   "metadata": {},
   "outputs": [],
   "source": []
  },
  {
   "cell_type": "code",
   "execution_count": 1,
   "id": "8283dc51",
   "metadata": {},
   "outputs": [],
   "source": [
    "import torch"
   ]
  },
  {
   "cell_type": "code",
   "execution_count": 2,
   "id": "8126df74",
   "metadata": {},
   "outputs": [
    {
     "data": {
      "text/plain": [
       "True"
      ]
     },
     "execution_count": 2,
     "metadata": {},
     "output_type": "execute_result"
    }
   ],
   "source": [
    "torch.cuda.is_available()"
   ]
  },
  {
   "cell_type": "code",
   "execution_count": 3,
   "id": "0b224ee0",
   "metadata": {},
   "outputs": [
    {
     "name": "stdout",
     "output_type": "stream",
     "text": [
      "tensor([7.0065e-45])\n"
     ]
    }
   ],
   "source": [
    "x = torch.empty(1)\n",
    "print (x)"
   ]
  },
  {
   "cell_type": "code",
   "execution_count": 4,
   "id": "ef4039dd",
   "metadata": {},
   "outputs": [
    {
     "name": "stdout",
     "output_type": "stream",
     "text": [
      "tensor([[0., 0.],\n",
      "        [0., 0.]])\n"
     ]
    }
   ],
   "source": [
    "y = torch.empty(2, 2)\n",
    "print (y)"
   ]
  },
  {
   "cell_type": "code",
   "execution_count": 5,
   "id": "d482b1f9",
   "metadata": {},
   "outputs": [
    {
     "name": "stdout",
     "output_type": "stream",
     "text": [
      "tensor([[[1.1112e-38, 9.5511e-39, 1.0102e-38],\n",
      "         [1.0286e-38, 1.0194e-38, 9.6429e-39]],\n",
      "\n",
      "        [[9.2755e-39, 9.1837e-39, 9.3674e-39],\n",
      "         [1.0745e-38, 1.0653e-38, 9.5510e-39]]])\n"
     ]
    }
   ],
   "source": [
    "z = torch.empty(2, 2, 3)\n",
    "print (z)"
   ]
  },
  {
   "cell_type": "code",
   "execution_count": 6,
   "id": "63be47c9",
   "metadata": {},
   "outputs": [
    {
     "name": "stdout",
     "output_type": "stream",
     "text": [
      "tensor([[1., 1., 1.]])\n",
      "torch.float32\n"
     ]
    }
   ],
   "source": [
    "a = torch.ones(1, 3)\n",
    "print (a)\n",
    "print (a.dtype)"
   ]
  },
  {
   "cell_type": "code",
   "execution_count": 7,
   "id": "f70e3530",
   "metadata": {},
   "outputs": [
    {
     "name": "stdout",
     "output_type": "stream",
     "text": [
      "tensor([[1., 1., 1.]], dtype=torch.float16)\n",
      "torch.float16\n",
      "torch.Size([1, 3])\n"
     ]
    }
   ],
   "source": [
    "b = torch.ones(1, 3, dtype=torch.float16)\n",
    "print (b)\n",
    "print (b.dtype)\n",
    "print (b.size())"
   ]
  },
  {
   "cell_type": "code",
   "execution_count": 8,
   "id": "a54dcfe6",
   "metadata": {},
   "outputs": [
    {
     "name": "stdout",
     "output_type": "stream",
     "text": [
      "tensor([[1, 2, 3],\n",
      "        [4, 5, 6]])\n"
     ]
    }
   ],
   "source": [
    "c = torch.tensor ([[1,2,3], [4,5,6]])\n",
    "print (c)"
   ]
  },
  {
   "cell_type": "code",
   "execution_count": 9,
   "id": "784c7fee",
   "metadata": {},
   "outputs": [
    {
     "name": "stdout",
     "output_type": "stream",
     "text": [
      "tensor([[0.7286, 0.5584, 0.9868],\n",
      "        [0.5161, 1.5801, 1.6526]])\n",
      "tensor([[0.7286, 0.5584, 0.9868],\n",
      "        [0.5161, 1.5801, 1.6526]])\n"
     ]
    }
   ],
   "source": [
    "x = torch.rand(2, 3)\n",
    "y = torch.rand (2, 3)\n",
    "z = x + y\n",
    "print (z)\n",
    "p = torch.add(x, y)\n",
    "print (p)"
   ]
  },
  {
   "cell_type": "code",
   "execution_count": 10,
   "id": "86e09f4b",
   "metadata": {},
   "outputs": [
    {
     "name": "stdout",
     "output_type": "stream",
     "text": [
      "tensor([[-0.3874,  0.4530, -0.9277],\n",
      "        [-0.2526,  0.1424,  0.2840]]) tensor([[0.0952, 0.0266, 0.0283],\n",
      "        [0.0506, 0.6191, 0.6626]]) tensor([[0.3057, 9.5998, 0.0308],\n",
      "        [0.3428, 1.1982, 1.4150]])\n"
     ]
    }
   ],
   "source": [
    "a = torch.sub (x, y)\n",
    "b = torch.mul (x, y)\n",
    "c = torch.div (x,y)\n",
    "print (a , b , c)"
   ]
  },
  {
   "cell_type": "code",
   "execution_count": 11,
   "id": "dd96ae1b",
   "metadata": {},
   "outputs": [
    {
     "data": {
      "text/plain": [
       "tensor([[0.6126, 1.4530, 0.0723],\n",
       "        [0.7474, 1.1424, 1.2840]])"
      ]
     },
     "execution_count": 11,
     "metadata": {},
     "output_type": "execute_result"
    }
   ],
   "source": [
    "a.add_(1)"
   ]
  },
  {
   "cell_type": "code",
   "execution_count": 12,
   "id": "a21719bb",
   "metadata": {},
   "outputs": [
    {
     "data": {
      "text/plain": [
       "array([[0.09519114, 0.02664176, 0.02825891],\n",
       "       [0.05064746, 0.61908835, 0.6625693 ]], dtype=float32)"
      ]
     },
     "execution_count": 12,
     "metadata": {},
     "output_type": "execute_result"
    }
   ],
   "source": [
    "s = b.numpy()\n",
    "s"
   ]
  },
  {
   "cell_type": "code",
   "execution_count": null,
   "id": "6ecea91c",
   "metadata": {},
   "outputs": [],
   "source": []
  },
  {
   "cell_type": "code",
   "execution_count": 13,
   "id": "1799180d",
   "metadata": {},
   "outputs": [
    {
     "name": "stdout",
     "output_type": "stream",
     "text": [
      "tensor([3, 4, 5])\n",
      "tensor([1, 4, 9])\n",
      "tensor([[ 4,  6],\n",
      "        [10, 12]])\n"
     ]
    }
   ],
   "source": [
    "import torch\n",
    "\n",
    "# Creating tensors\n",
    "scalar_tensor = torch.tensor(5)  # Scalar (0-dimensional tensor)\n",
    "vector_tensor = torch.tensor([1, 2, 3])  # Vector (1-dimensional tensor)\n",
    "matrix_tensor = torch.tensor([[1, 2], [3, 4]])  # Matrix (2-dimensional tensor)\n",
    "\n",
    "# Arithmetic operations\n",
    "result = vector_tensor + 2  # Adding 2 to each element\n",
    "print(result)  # Output: tensor([3, 4, 5])\n",
    "\n",
    "# Element-wise operations\n",
    "elementwise_product = vector_tensor * vector_tensor\n",
    "print(elementwise_product)  # Output: tensor([1, 4, 9])\n",
    "\n",
    "# Matrix multiplication\n",
    "matrix_a = torch.tensor([[1, 2], [3, 4]])\n",
    "matrix_b = torch.tensor([[2, 0], [1, 3]])\n",
    "matrix_product = torch.mm(matrix_a, matrix_b)\n",
    "print(matrix_product)  # Output: tensor([[ 4,  6], [10, 12]])\n"
   ]
  },
  {
   "cell_type": "code",
   "execution_count": null,
   "id": "15ac1426",
   "metadata": {},
   "outputs": [],
   "source": []
  },
  {
   "cell_type": "code",
   "execution_count": null,
   "id": "48e3a7e6",
   "metadata": {},
   "outputs": [],
   "source": []
  },
  {
   "cell_type": "code",
   "execution_count": null,
   "id": "3d81f213",
   "metadata": {},
   "outputs": [],
   "source": []
  },
  {
   "cell_type": "code",
   "execution_count": null,
   "id": "ed4526b9",
   "metadata": {},
   "outputs": [],
   "source": []
  }
 ],
 "metadata": {
  "kernelspec": {
   "display_name": "Python [conda env:envpytorch]",
   "language": "python",
   "name": "conda-env-envpytorch-py"
  },
  "language_info": {
   "codemirror_mode": {
    "name": "ipython",
    "version": 3
   },
   "file_extension": ".py",
   "mimetype": "text/x-python",
   "name": "python",
   "nbconvert_exporter": "python",
   "pygments_lexer": "ipython3",
   "version": "3.7.3"
  }
 },
 "nbformat": 4,
 "nbformat_minor": 5
}
