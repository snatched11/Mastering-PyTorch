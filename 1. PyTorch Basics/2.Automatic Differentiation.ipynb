{
 "cells": [
  {
   "cell_type": "markdown",
   "id": "7adb9b35",
   "metadata": {},
   "source": [
    "torch.autograd is PyTorch’s automatic differentiation engine that powers neural network training .The autograd package provides automatic differentiation for all operations on Tensors. To tell PyTorch that we want the gradient, we have to set requires_grad=True. With this attribute set, all operations on the tensor are tracked in the computational graph.\n",
    "\n",
    "* requires_grad attribute for Tensors"
   ]
  },
  {
   "cell_type": "markdown",
   "id": "aa9752e3",
   "metadata": {},
   "source": [
    "### Example 1:"
   ]
  },
  {
   "cell_type": "code",
   "execution_count": 1,
   "id": "b5df79b0",
   "metadata": {},
   "outputs": [],
   "source": [
    "import torch"
   ]
  },
  {
   "cell_type": "code",
   "execution_count": 2,
   "id": "eda26944",
   "metadata": {},
   "outputs": [
    {
     "name": "stdout",
     "output_type": "stream",
     "text": [
      "tensor([ 1.3764, -0.5564,  0.7088], requires_grad=True)\n"
     ]
    }
   ],
   "source": [
    "x = torch.randn (3, requires_grad=True)\n",
    "print (x)"
   ]
  },
  {
   "cell_type": "code",
   "execution_count": 3,
   "id": "cffd8948",
   "metadata": {},
   "outputs": [
    {
     "name": "stdout",
     "output_type": "stream",
     "text": [
      "tensor([3.3764, 1.4436, 2.7088], grad_fn=<AddBackward0>)\n"
     ]
    }
   ],
   "source": [
    "y = x + 2\n",
    "print (y)"
   ]
  },
  {
   "cell_type": "code",
   "execution_count": 4,
   "id": "c6c3214f",
   "metadata": {},
   "outputs": [
    {
     "name": "stdout",
     "output_type": "stream",
     "text": [
      "tensor(13.8813, grad_fn=<MeanBackward0>)\n"
     ]
    }
   ],
   "source": [
    "z = y * y * 2\n",
    "z = z.mean()\n",
    "print (z)"
   ]
  },
  {
   "cell_type": "code",
   "execution_count": 5,
   "id": "81e251f2",
   "metadata": {},
   "outputs": [
    {
     "name": "stdout",
     "output_type": "stream",
     "text": [
      "tensor([4.5019, 1.9248, 3.6118])\n"
     ]
    }
   ],
   "source": [
    "z.backward() #dz/dx\n",
    "print (x.grad)"
   ]
  },
  {
   "cell_type": "code",
   "execution_count": null,
   "id": "3d7e158d",
   "metadata": {},
   "outputs": [],
   "source": []
  },
  {
   "cell_type": "markdown",
   "id": "f94ad2c0",
   "metadata": {},
   "source": [
    "### Example 2:"
   ]
  },
  {
   "cell_type": "code",
   "execution_count": 6,
   "id": "80ce7d77",
   "metadata": {},
   "outputs": [
    {
     "name": "stdout",
     "output_type": "stream",
     "text": [
      "tensor(3., requires_grad=True)\n"
     ]
    }
   ],
   "source": [
    "a = torch.tensor(3., requires_grad=True)\n",
    "print (a)"
   ]
  },
  {
   "cell_type": "code",
   "execution_count": 7,
   "id": "4e870898",
   "metadata": {},
   "outputs": [
    {
     "name": "stdout",
     "output_type": "stream",
     "text": [
      "tensor(41., grad_fn=<AddBackward0>)\n"
     ]
    }
   ],
   "source": [
    "y = 3*a*a + 4*a + 2\n",
    "print (y)"
   ]
  },
  {
   "cell_type": "code",
   "execution_count": 8,
   "id": "192fa7e2",
   "metadata": {},
   "outputs": [],
   "source": [
    "y.backward() # Derivative of 3*a*a + 4*a + 2 is, 6a+4"
   ]
  },
  {
   "cell_type": "code",
   "execution_count": 9,
   "id": "adc16aed",
   "metadata": {},
   "outputs": [
    {
     "name": "stdout",
     "output_type": "stream",
     "text": [
      "tensor(22.)\n"
     ]
    }
   ],
   "source": [
    "print (a.grad) # 6a+4 is 6*3+4 = 22"
   ]
  },
  {
   "cell_type": "code",
   "execution_count": null,
   "id": "0cd471e3",
   "metadata": {},
   "outputs": [],
   "source": []
  },
  {
   "cell_type": "markdown",
   "id": "a1c7696d",
   "metadata": {},
   "source": [
    "### Turn Gradient Calculation off"
   ]
  },
  {
   "cell_type": "code",
   "execution_count": 10,
   "id": "ebba0478",
   "metadata": {},
   "outputs": [
    {
     "name": "stdout",
     "output_type": "stream",
     "text": [
      "tensor(2., requires_grad=True)\n"
     ]
    }
   ],
   "source": [
    "c = torch.tensor (2., requires_grad=True)\n",
    "print (c)"
   ]
  },
  {
   "cell_type": "code",
   "execution_count": 11,
   "id": "fd6ab357",
   "metadata": {},
   "outputs": [
    {
     "name": "stdout",
     "output_type": "stream",
     "text": [
      "tensor(2.)\n"
     ]
    }
   ],
   "source": [
    "c = c.requires_grad_(False)\n",
    "print (c)"
   ]
  },
  {
   "cell_type": "code",
   "execution_count": 12,
   "id": "88b67693",
   "metadata": {},
   "outputs": [
    {
     "name": "stdout",
     "output_type": "stream",
     "text": [
      "tensor(2.)\n"
     ]
    }
   ],
   "source": [
    "#another way\n",
    "c = c.detach()\n",
    "print (c)"
   ]
  },
  {
   "cell_type": "code",
   "execution_count": null,
   "id": "c7aa8eac",
   "metadata": {},
   "outputs": [],
   "source": []
  },
  {
   "cell_type": "markdown",
   "id": "bab4c45d",
   "metadata": {},
   "source": [
    "# Gradient accumulation"
   ]
  },
  {
   "cell_type": "code",
   "execution_count": 13,
   "id": "9f21d8e5",
   "metadata": {},
   "outputs": [
    {
     "name": "stdout",
     "output_type": "stream",
     "text": [
      "tensor(34.)\n",
      "tensor(68.)\n",
      "tensor(102.)\n"
     ]
    }
   ],
   "source": [
    "x = torch.tensor(5., requires_grad=True)\n",
    "for epoch in range (3):\n",
    "    y = 3*x**2 + 4*x + 2\n",
    "    y.backward()  # dy/dx is 6x+4\n",
    "    print(x.grad) # 6*5+4 is 34\n",
    "   "
   ]
  },
  {
   "cell_type": "markdown",
   "id": "c7fb7f3c",
   "metadata": {},
   "source": [
    "Gradients are adding up. To avoid this we use grad.zero_()"
   ]
  },
  {
   "cell_type": "code",
   "execution_count": 14,
   "id": "7f5c48a2",
   "metadata": {},
   "outputs": [
    {
     "name": "stdout",
     "output_type": "stream",
     "text": [
      "tensor(34.)\n",
      "tensor(34.)\n",
      "tensor(34.)\n"
     ]
    }
   ],
   "source": [
    "x = torch.tensor(5., requires_grad=True)\n",
    "for epoch in range (3):\n",
    "    y = 3*x**2 + 4*x + 2\n",
    "    y.backward()\n",
    "    print(x.grad)\n",
    "    x.grad.zero_()"
   ]
  },
  {
   "cell_type": "code",
   "execution_count": null,
   "id": "ea06df60",
   "metadata": {},
   "outputs": [],
   "source": []
  }
 ],
 "metadata": {
  "kernelspec": {
   "display_name": "Python [conda env:envpytorch]",
   "language": "python",
   "name": "conda-env-envpytorch-py"
  },
  "language_info": {
   "codemirror_mode": {
    "name": "ipython",
    "version": 3
   },
   "file_extension": ".py",
   "mimetype": "text/x-python",
   "name": "python",
   "nbconvert_exporter": "python",
   "pygments_lexer": "ipython3",
   "version": "3.7.3"
  }
 },
 "nbformat": 4,
 "nbformat_minor": 5
}
