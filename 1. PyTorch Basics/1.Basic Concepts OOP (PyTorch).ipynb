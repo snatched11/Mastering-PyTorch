{
 "cells": [
  {
   "cell_type": "markdown",
   "id": "c3c4e6a2",
   "metadata": {},
   "source": [
    "# Object-Oriented Programming in PyTorch "
   ]
  },
  {
   "cell_type": "markdown",
   "id": "191a964e",
   "metadata": {},
   "source": [
    "### Method :"
   ]
  },
  {
   "cell_type": "code",
   "execution_count": 1,
   "id": "7f253f9d",
   "metadata": {},
   "outputs": [],
   "source": [
    "class Customer:\n",
    "    def set_name (self, new_name):\n",
    "        self.name = new_name\n",
    "    def display_name (self):\n",
    "        print (\"Name: \" + self.name) "
   ]
  },
  {
   "cell_type": "code",
   "execution_count": 2,
   "id": "cfdb7de1",
   "metadata": {},
   "outputs": [
    {
     "name": "stdout",
     "output_type": "stream",
     "text": [
      "Name: sulav\n"
     ]
    }
   ],
   "source": [
    "c1 = Customer ()\n",
    "c1.set_name (\"sulav\")\n",
    "c1.display_name()"
   ]
  },
  {
   "cell_type": "code",
   "execution_count": 3,
   "id": "426c3799",
   "metadata": {},
   "outputs": [
    {
     "name": "stdout",
     "output_type": "stream",
     "text": [
      "Name: Amy\n"
     ]
    }
   ],
   "source": [
    "c2 = Customer ()\n",
    "c2.set_name (\"Amy\")\n",
    "c2.display_name()"
   ]
  },
  {
   "cell_type": "markdown",
   "id": "69d8f9da",
   "metadata": {},
   "source": [
    "### Using Constructor "
   ]
  },
  {
   "cell_type": "code",
   "execution_count": 4,
   "id": "5edf5004",
   "metadata": {},
   "outputs": [],
   "source": [
    "class Customer:\n",
    "    def __init__ (self, new_name):\n",
    "        self.name = new_name\n",
    "    def display_name (self):\n",
    "        print (\"Name: \" + self.name)"
   ]
  },
  {
   "cell_type": "code",
   "execution_count": 5,
   "id": "c37275db",
   "metadata": {},
   "outputs": [
    {
     "name": "stdout",
     "output_type": "stream",
     "text": [
      "Name: sulav\n"
     ]
    }
   ],
   "source": [
    "c1 = Customer (\"sulav\")\n",
    "c1.display_name()"
   ]
  },
  {
   "cell_type": "code",
   "execution_count": 6,
   "id": "4523c0cf",
   "metadata": {},
   "outputs": [
    {
     "name": "stdout",
     "output_type": "stream",
     "text": [
      "Name: Amy\n"
     ]
    }
   ],
   "source": [
    "c2 = Customer (\"Amy\")\n",
    "c2.display_name()"
   ]
  },
  {
   "cell_type": "markdown",
   "id": "ef9a2ede",
   "metadata": {},
   "source": [
    "### Inheritance "
   ]
  },
  {
   "cell_type": "code",
   "execution_count": 7,
   "id": "f91dc12b",
   "metadata": {},
   "outputs": [],
   "source": [
    "class Customer:\n",
    "    def __init__ (self, new_name, discount=0):\n",
    "        self.name = new_name \n",
    "        self.discount = discount       \n",
    "    \n",
    "    def give_discount (self, amount):\n",
    "        self.discount += amount "
   ]
  },
  {
   "cell_type": "code",
   "execution_count": 8,
   "id": "5b1f9d94",
   "metadata": {},
   "outputs": [],
   "source": [
    "class VIPCustomer (Customer):\n",
    "    def __init__ (self, new_name, discount=0):\n",
    "        super(VIPCustomer, self).__init__(new_name, discount)\n",
    "        \n",
    "    def give_special_discount(self, amount):\n",
    "        self.discount += 2 * amount"
   ]
  },
  {
   "cell_type": "code",
   "execution_count": 9,
   "id": "86de862a",
   "metadata": {},
   "outputs": [
    {
     "name": "stdout",
     "output_type": "stream",
     "text": [
      "Initial amount:  0\n",
      "Updated amount:  5\n"
     ]
    }
   ],
   "source": [
    "c2 = VIPCustomer(\"sulav\")\n",
    "print (\"Initial amount: \", c2.discount)\n",
    "c2.give_discount(5)\n",
    "print (\"Updated amount: \", c2.discount)"
   ]
  },
  {
   "cell_type": "code",
   "execution_count": 10,
   "id": "79eafe00",
   "metadata": {},
   "outputs": [
    {
     "name": "stdout",
     "output_type": "stream",
     "text": [
      "Initial amount:  0\n",
      "Updated amount:  10\n"
     ]
    }
   ],
   "source": [
    "c2 = VIPCustomer(\"sulav\")\n",
    "print (\"Initial amount: \", c2.discount)\n",
    "c2.give_special_discount(5)\n",
    "print (\"Updated amount: \", c2.discount)"
   ]
  },
  {
   "cell_type": "code",
   "execution_count": null,
   "id": "07779d23",
   "metadata": {},
   "outputs": [],
   "source": []
  },
  {
   "cell_type": "code",
   "execution_count": null,
   "id": "2516b34c",
   "metadata": {},
   "outputs": [],
   "source": []
  }
 ],
 "metadata": {
  "kernelspec": {
   "display_name": "Python [conda env:envpytorch]",
   "language": "python",
   "name": "conda-env-envpytorch-py"
  },
  "language_info": {
   "codemirror_mode": {
    "name": "ipython",
    "version": 3
   },
   "file_extension": ".py",
   "mimetype": "text/x-python",
   "name": "python",
   "nbconvert_exporter": "python",
   "pygments_lexer": "ipython3",
   "version": "3.7.3"
  }
 },
 "nbformat": 4,
 "nbformat_minor": 5
}
